{
 "cells": [
  {
   "cell_type": "code",
   "execution_count": 6,
   "id": "8b0466e9-4ad3-418e-84fd-fc59a563731c",
   "metadata": {},
   "outputs": [],
   "source": [
    "\n",
    "import time\n",
    "has_exit_key = False\n",
    "has_key_for_door_c = False\n",
    "def slow_print(text, delay=2):\n",
    "    \"\"\"Print text with a delay to simulate the narrative.\"\"\"\n",
    "    print(text)\n",
    "    time.sleep(delay)\n",
    "\n",
    "def game_room(room_explored=False):\n",
    "    global has_exit_key\n",
    "    has_key_game_room = False\n",
    "    slow_print(\"You wake up on an unfamiliar couch in a game room with no windows.\")\n",
    "    \n",
    "    while True:\n",
    "        if not room_explored:\n",
    "            print(\"\\nChoose an action:\")\n",
    "            print(\"a) Explore the room\")\n",
    "            choice = input(\"> \").strip().lower()\n",
    "            if choice == 'a':\n",
    "                slow_print(\"Exploring the room, you see a couch, a piano, and a locked Door A.\")\n",
    "                room_explored = True\n",
    "        else:\n",
    "            print(\"\\nWhat will you do next?\")\n",
    "            print(\"b) Search the couch\")\n",
    "            print(\"c) Examine the piano\")\n",
    "            print(\"d) Enter Bedroom 1\")\n",
    "            choice = input(\"> \").strip().lower()\n",
    "\n",
    "            if choice == 'b':\n",
    "                slow_print(\"You search the couch but find nothing of interest.\")\n",
    "            elif choice == 'c':\n",
    "                if not has_key_game_room:\n",
    "                    slow_print(\"Inside the piano, you find a key for Door A.\")\n",
    "                    has_key_game_room = True\n",
    "                else:\n",
    "                    slow_print(\"There's nothing more inside the piano.\")\n",
    "            elif choice == 'd' and has_key_game_room:\n",
    "                slow_print(\"You use the key to unlock Door A and step through...\")\n",
    "                bedroom_1(room_explored=False)\n",
    "                break\n",
    "            else:\n",
    "                slow_print(\"Invalid choice. Please try again.\")\n",
    "\n",
    "def bedroom_1(room_explored):\n",
    "    global has_exit_key, has_key_for_door_c\n",
    "    slow_print(\"You're now in Bedroom 1. There's a queen bed, Door B, and Door C.\")\n",
    "    \n",
    "    while True:\n",
    "        if not room_explored:\n",
    "            print(\"\\nChoose an action:\")\n",
    "            print(\"a) Explore the room\")\n",
    "            choice = input(\"> \").strip().lower()\n",
    "            if choice == 'a':\n",
    "                slow_print(\"Exploring the room, you notice a queen bed, Door B, and Door C.\")\n",
    "                room_explored = True\n",
    "        else:\n",
    "            print(\"\\nWhat will you do next?\")\n",
    "            print(\"b) Search the bed\")\n",
    "            print(\"c) Try Door B\")\n",
    "            print(\"d) Go back to the game room\")\n",
    "            print(\"e) Try Door C to the final room\")\n",
    "            choice = input(\"> \").strip().lower()\n",
    "\n",
    "            if choice == 'b':\n",
    "                slow_print(\"Underneath the bed, you discover a key for Door B.\")\n",
    "            elif choice == 'c':\n",
    "                slow_print(\"Using the key, you unlock Door B and step through to Bedroom 2.\")\n",
    "                bedroom_2(room_explored=False)\n",
    "            elif choice == 'd':\n",
    "                slow_print(\"You decide to return to the game room.\")\n",
    "                game_room(room_explored=True)\n",
    "            elif choice == 'e' and has_key_for_door_c:\n",
    "                slow_print(\"You unlock Door C with the key from Bedroom 2 and move forward to the final room.\")\n",
    "                final_room(room_explored=False)\n",
    "            else:\n",
    "                slow_print(\"Invalid choice. Please try again.\")\n",
    "\n",
    "def bedroom_2(room_explored):\n",
    "    global has_exit_key, has_key_for_door_c\n",
    "    slow_print(\"You're now in Bedroom 2.\")\n",
    "    \n",
    "    while True:\n",
    "        if not room_explored:\n",
    "            print(\"\\nChoose an action:\")\n",
    "            print(\"a) Explore the room\")\n",
    "            choice = input(\"> \").strip().lower()\n",
    "            if choice == 'a':\n",
    "                slow_print(\"You notice a double bed and a dresser.\")\n",
    "                room_explored = True\n",
    "        else:\n",
    "            print(\"\\nWhat will you do next?\")\n",
    "            print(\"a) Examine the double bed\")\n",
    "            print(\"b) Search the dresser\")\n",
    "            print(\"c) Return to Bedroom 1\")\n",
    "            choice = input(\"> \").strip().lower()\n",
    "\n",
    "            if choice == 'a' and not has_key_for_door_c:\n",
    "                slow_print(\"Inside the double bed, you find a key that might unlock Door C in Bedroom 1.\")\n",
    "                has_key_for_door_c = True\n",
    "            elif choice == 'b' and not has_exit_key:\n",
    "                slow_print(\"In the dresser, you find a key that appears important for exiting.\")\n",
    "                has_exit_key = True\n",
    "            elif choice == 'c':\n",
    "                slow_print(\"You decide to go back to Bedroom 1.\")\n",
    "                bedroom_1(room_explored=True)\n",
    "            else:\n",
    "                slow_print(\"Invalid choice. Please try again.\")\n",
    "\n",
    "def final_room(room_explored):\n",
    "    global has_exit_key\n",
    "    slow_print(\"You've entered what seems to be the final room.\")\n",
    "    \n",
    "    while True:\n",
    "        if not room_explored:\n",
    "            print(\"\\nChoose an action:\")\n",
    "            print(\"a) Explore the room\")\n",
    "            choice = input(\"> \").strip().lower()\n",
    "            if choice == 'a':\n",
    "                slow_print(\"Looking around, you see a dining table and a door labeled 'D'.\")\n",
    "                room_explored = True\n",
    "        else:\n",
    "            print(\"\\nWhat will you do next?\")\n",
    "            print(\"a) Examine the dining table\")\n",
    "            print(\"b) Try Door D\")\n",
    "            print(\"c) Return to Bedroom 1\")\n",
    "            choice = input(\"> \").strip().lower()\n",
    "\n",
    "            if choice == 'a':\n",
    "                slow_print(\"The dining table is elegant but holds nothing of interest.\")\n",
    "            elif choice == 'b' and has_exit_key:\n",
    "                slow_print(\"Using the key from the dresser, you unlock Door D and step outside.\")\n",
    "                slow_print(\"Congratulations, you've escaped! You win!\")\n",
    "                end_game()\n",
    "                return  \n",
    "            elif choice == 'c':\n",
    "                slow_print(\"Thinking there might be something you missed, you head back to Bedroom 1.\")\n",
    "                bedroom_1(room_explored=True)\n",
    "            else:\n",
    "                slow_print(\"Invalid choice. Please try again.\")\n",
    "\n",
    "def end_game():\n",
    "    print(\"\\nWould you like to play again? (yes/no)\")\n",
    "    choice = input(\"> \").strip().lower()\n",
    "    if choice == 'yes':\n",
    "        game_room(room_explored=False) \n",
    "    else:\n",
    "        slow_print(\"Thank you for playing. Goodbye!\")\n",
    "        exit()  \n",
    "\n",
    "\n",
    "\n",
    "\n",
    "\n",
    "\n",
    "\n",
    "\n",
    "\n"
   ]
  },
  {
   "cell_type": "markdown",
   "id": "68a983ed-ad90-4181-b25e-7f49e3c9991b",
   "metadata": {},
   "source": [
    "game_room()\n"
   ]
  },
  {
   "cell_type": "code",
   "execution_count": null,
   "id": "43ff4614-c628-4c84-b465-b79ad21b4224",
   "metadata": {},
   "outputs": [],
   "source": []
  },
  {
   "cell_type": "markdown",
   "id": "d79fc514-07e7-4c6c-a396-ada45cb542df",
   "metadata": {},
   "source": [
    "## game_room()"
   ]
  },
  {
   "cell_type": "code",
   "execution_count": null,
   "id": "144e3e75-931f-4690-bb8b-c7bc44d5fe64",
   "metadata": {},
   "outputs": [
    {
     "name": "stdout",
     "output_type": "stream",
     "text": [
      "You wake up on an unfamiliar couch in a game room with no windows.\n",
      "\n",
      "Choose an action:\n",
      "a) Explore the room\n"
     ]
    },
    {
     "name": "stdin",
     "output_type": "stream",
     "text": [
      ">  a\n"
     ]
    },
    {
     "name": "stdout",
     "output_type": "stream",
     "text": [
      "Exploring the room, you see a couch, a piano, and a locked Door A.\n",
      "\n",
      "What will you do next?\n",
      "b) Search the couch\n",
      "c) Examine the piano\n",
      "d) Enter Bedroom 1\n"
     ]
    },
    {
     "name": "stdin",
     "output_type": "stream",
     "text": [
      ">  c\n"
     ]
    },
    {
     "name": "stdout",
     "output_type": "stream",
     "text": [
      "Inside the piano, you find a key for Door A.\n",
      "\n",
      "What will you do next?\n",
      "b) Search the couch\n",
      "c) Examine the piano\n",
      "d) Enter Bedroom 1\n"
     ]
    },
    {
     "name": "stdin",
     "output_type": "stream",
     "text": [
      ">  d\n"
     ]
    },
    {
     "name": "stdout",
     "output_type": "stream",
     "text": [
      "You use the key to unlock Door A and step through...\n",
      "You're now in Bedroom 1. There's a queen bed, Door B, and Door C.\n",
      "\n",
      "Choose an action:\n",
      "a) Explore the room\n"
     ]
    },
    {
     "name": "stdin",
     "output_type": "stream",
     "text": [
      ">  a\n"
     ]
    },
    {
     "name": "stdout",
     "output_type": "stream",
     "text": [
      "Exploring the room, you notice a queen bed, Door B, and Door C.\n",
      "\n",
      "What will you do next?\n",
      "b) Search the bed\n",
      "c) Try Door B\n",
      "d) Go back to the game room\n",
      "e) Try Door C to the final room\n"
     ]
    },
    {
     "name": "stdin",
     "output_type": "stream",
     "text": [
      ">  b\n"
     ]
    },
    {
     "name": "stdout",
     "output_type": "stream",
     "text": [
      "Underneath the bed, you discover a key for Door B.\n",
      "\n",
      "What will you do next?\n",
      "b) Search the bed\n",
      "c) Try Door B\n",
      "d) Go back to the game room\n",
      "e) Try Door C to the final room\n"
     ]
    },
    {
     "name": "stdin",
     "output_type": "stream",
     "text": [
      ">  c\n"
     ]
    },
    {
     "name": "stdout",
     "output_type": "stream",
     "text": [
      "Using the key, you unlock Door B and step through to Bedroom 2.\n",
      "You're now in Bedroom 2.\n",
      "\n",
      "Choose an action:\n",
      "a) Explore the room\n"
     ]
    },
    {
     "name": "stdin",
     "output_type": "stream",
     "text": [
      ">  a\n"
     ]
    },
    {
     "name": "stdout",
     "output_type": "stream",
     "text": [
      "You notice a double bed and a dresser.\n",
      "\n",
      "What will you do next?\n",
      "a) Examine the double bed\n",
      "b) Search the dresser\n",
      "c) Return to Bedroom 1\n"
     ]
    },
    {
     "name": "stdin",
     "output_type": "stream",
     "text": [
      ">  a\n"
     ]
    },
    {
     "name": "stdout",
     "output_type": "stream",
     "text": [
      "Inside the double bed, you find a key that might unlock Door C in Bedroom 1.\n",
      "\n",
      "What will you do next?\n",
      "a) Examine the double bed\n",
      "b) Search the dresser\n",
      "c) Return to Bedroom 1\n"
     ]
    },
    {
     "name": "stdin",
     "output_type": "stream",
     "text": [
      ">  b\n"
     ]
    },
    {
     "name": "stdout",
     "output_type": "stream",
     "text": [
      "In the dresser, you find a key that appears important for exiting.\n",
      "\n",
      "What will you do next?\n",
      "a) Examine the double bed\n",
      "b) Search the dresser\n",
      "c) Return to Bedroom 1\n"
     ]
    },
    {
     "name": "stdin",
     "output_type": "stream",
     "text": [
      ">  c\n"
     ]
    },
    {
     "name": "stdout",
     "output_type": "stream",
     "text": [
      "You decide to go back to Bedroom 1.\n",
      "You're now in Bedroom 1. There's a queen bed, Door B, and Door C.\n",
      "\n",
      "What will you do next?\n",
      "b) Search the bed\n",
      "c) Try Door B\n",
      "d) Go back to the game room\n",
      "e) Try Door C to the final room\n"
     ]
    },
    {
     "name": "stdin",
     "output_type": "stream",
     "text": [
      ">  e\n"
     ]
    },
    {
     "name": "stdout",
     "output_type": "stream",
     "text": [
      "You unlock Door C with the key from Bedroom 2 and move forward to the final room.\n",
      "You've entered what seems to be the final room.\n",
      "\n",
      "Choose an action:\n",
      "a) Explore the room\n"
     ]
    },
    {
     "name": "stdin",
     "output_type": "stream",
     "text": [
      ">  a\n"
     ]
    },
    {
     "name": "stdout",
     "output_type": "stream",
     "text": [
      "Looking around, you see a dining table and a door labeled 'D'.\n",
      "\n",
      "What will you do next?\n",
      "a) Examine the dining table\n",
      "b) Try Door D\n",
      "c) Return to Bedroom 1\n"
     ]
    },
    {
     "name": "stdin",
     "output_type": "stream",
     "text": [
      ">  b\n"
     ]
    },
    {
     "name": "stdout",
     "output_type": "stream",
     "text": [
      "Using the key from the dresser, you unlock Door D and step outside.\n",
      "Congratulations, you've escaped! You win!\n",
      "\n",
      "Would you like to play again? (yes/no)\n"
     ]
    },
    {
     "name": "stdin",
     "output_type": "stream",
     "text": [
      ">  no\n"
     ]
    },
    {
     "name": "stdout",
     "output_type": "stream",
     "text": [
      "Thank you for playing. Goodbye!\n",
      "\n",
      "What will you do next?\n",
      "b) Search the bed\n",
      "c) Try Door B\n",
      "d) Go back to the game room\n",
      "e) Try Door C to the final room\n"
     ]
    }
   ],
   "source": [
    "game_room()"
   ]
  },
  {
   "cell_type": "code",
   "execution_count": null,
   "id": "2af12c12-0fa2-4a41-835c-b955330b5295",
   "metadata": {},
   "outputs": [],
   "source": []
  },
  {
   "cell_type": "code",
   "execution_count": null,
   "id": "4ae0d4fc-cadf-4ec4-8911-57c0fdc314b6",
   "metadata": {},
   "outputs": [],
   "source": []
  }
 ],
 "metadata": {
  "kernelspec": {
   "display_name": "Python 3 (ipykernel)",
   "language": "python",
   "name": "python3"
  },
  "language_info": {
   "codemirror_mode": {
    "name": "ipython",
    "version": 3
   },
   "file_extension": ".py",
   "mimetype": "text/x-python",
   "name": "python",
   "nbconvert_exporter": "python",
   "pygments_lexer": "ipython3",
   "version": "3.11.5"
  }
 },
 "nbformat": 4,
 "nbformat_minor": 5
}
